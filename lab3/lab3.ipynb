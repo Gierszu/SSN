{
  "metadata": {
    "language_info": {
      "codemirror_mode": {
        "name": "python",
        "version": 3
      },
      "file_extension": ".py",
      "mimetype": "text/x-python",
      "name": "python",
      "nbconvert_exporter": "python",
      "pygments_lexer": "ipython3",
      "version": "3.8"
    },
    "kernelspec": {
      "name": "python",
      "display_name": "Pyolite",
      "language": "python"
    }
  },
  "nbformat_minor": 4,
  "nbformat": 4,
  "cells": [
    {
      "cell_type": "markdown",
      "source": "# **Laboratorium 3**: ConvNetJS Trainer\n*Wojciech Gierszal, 141037*\n\n---",
      "metadata": {}
    },
    {
      "cell_type": "markdown",
      "source": "### Import\nW całym laboratorium będziemy korzystać z biblioteki numpy.",
      "metadata": {}
    },
    {
      "cell_type": "code",
      "source": "import numpy as np",
      "metadata": {
        "trusted": true
      },
      "execution_count": 2,
      "outputs": []
    },
    {
      "cell_type": "markdown",
      "source": "---\n\n## **Zadanie 1.**\nZaimplementuj jako osobną funkcję algorytm propagacji wstecznej dla sieci z rysunku 1 (z poprzedniego zadania).\n\n---\n\n",
      "metadata": {}
    },
    {
      "cell_type": "code",
      "source": "def calculate_l2(weights, inputs):\n    return np.sum(np.dot(weights, inputs)**2)",
      "metadata": {
        "trusted": true
      },
      "execution_count": 6,
      "outputs": []
    },
    {
      "cell_type": "code",
      "source": "def calculate_grad_l2(dL, W, x):\n    product = np.dot(W, x)\n    out = calculate_l2(W, x)\n    \n    grad_out = 1.0 * dL\n    grad_product = grad_out * 2 * product\n    grad_W = np.dot(grad_product, x.T)\n    grad_x = np.dot(W.T, grad_product)\n    \n    return grad_W, grad_x",
      "metadata": {
        "trusted": true
      },
      "execution_count": 20,
      "outputs": []
    },
    {
      "cell_type": "code",
      "source": "W = np.array([[0.1, 0.5], [-0.3, 0.8]])\nx = np.array([[0.2], [0.4]])\n\ncalculate_grad_l2(1, W, x)",
      "metadata": {
        "trusted": true
      },
      "execution_count": 21,
      "outputs": [
        {
          "execution_count": 21,
          "output_type": "execute_result",
          "data": {
            "text/plain": "(array([[0.088, 0.176],\n        [0.104, 0.208]]),\n array([[-0.112],\n        [ 0.636]]))"
          },
          "metadata": {}
        }
      ]
    },
    {
      "cell_type": "markdown",
      "source": "## **Zadanie 2.**\nPrzetestuj wpływ parametru krok nauki (LR) na jakość odwzorowania. Zadaj następujące wartości tego parametru: 1; 0.1; 0.01; 0.001. Wszystkie algorytmy nauki.\n\n---\n\n",
      "metadata": {}
    },
    {
      "cell_type": "code",
      "source": "",
      "metadata": {},
      "execution_count": null,
      "outputs": []
    }
  ]
}